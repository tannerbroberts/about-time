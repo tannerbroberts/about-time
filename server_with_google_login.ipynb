{
 "cells": [
  {
   "cell_type": "markdown",
   "id": "1308f4e7",
   "metadata": {},
   "source": [
    "# Setup Express Server\n",
    "Initialize an Express server and configure basic middleware like body-parser and cors."
   ]
  },
  {
   "cell_type": "code",
   "execution_count": null,
   "id": "b4021f63",
   "metadata": {},
   "outputs": [],
   "source": [
    "# Import required libraries\n",
    "from express import Express\n",
    "from body_parser import json\n",
    "from cors import Cors\n",
    "\n",
    "# Initialize Express app\n",
    "app = Express()\n",
    "\n",
    "# Configure middleware\n",
    "app.use(json())  # Parse JSON bodies\n",
    "app.use(Cors())  # Enable Cross-Origin Resource Sharing"
   ]
  },
  {
   "cell_type": "markdown",
   "id": "8e00ef92",
   "metadata": {},
   "source": [
    "# Serve React App\n",
    "Use Express to serve the React app's static files from the build directory."
   ]
  },
  {
   "cell_type": "code",
   "execution_count": null,
   "id": "8bbeb83a",
   "metadata": {},
   "outputs": [],
   "source": [
    "import path\n",
    "\n",
    "# Serve static files from the React app's build directory\n",
    "app.use(Express.static(path.join(__dirname, 'build')))\n",
    "\n",
    "# Handle all other routes by serving the React app\n",
    "app.get('*', (req, res) => {\n",
    "    res.sendFile(path.join(__dirname, 'build', 'index.html'))\n",
    "})"
   ]
  },
  {
   "cell_type": "markdown",
   "id": "6d836369",
   "metadata": {},
   "source": [
    "# Install and Configure Google OAuth\n",
    "Install the 'passport' and 'passport-google-oauth20' packages. Configure Passport with Google OAuth credentials."
   ]
  },
  {
   "cell_type": "code",
   "execution_count": null,
   "id": "9f0c4ce1",
   "metadata": {},
   "outputs": [],
   "source": [
    "# Import required libraries for Google OAuth\n",
    "from passport import Passport\n",
    "from passport_google_oauth20 import Strategy as GoogleStrategy\n",
    "\n",
    "# Initialize Passport\n",
    "passport = Passport()\n",
    "\n",
    "# Configure Google OAuth strategy\n",
    "passport.use(GoogleStrategy(\n",
    "    {\n",
    "        'clientID': 'YOUR_GOOGLE_CLIENT_ID',\n",
    "        'clientSecret': 'YOUR_GOOGLE_CLIENT_SECRET',\n",
    "        'callbackURL': '/auth/google/callback'\n",
    "    },\n",
    "    (accessToken, refreshToken, profile, done) => {\n",
    "        # Handle user profile and tokens\n",
    "        return done(None, profile)\n",
    "    }\n",
    "))\n",
    "\n",
    "# Initialize Passport middleware\n",
    "app.use(passport.initialize())"
   ]
  },
  {
   "cell_type": "markdown",
   "id": "ecbdc675",
   "metadata": {},
   "source": [
    "# Implement Google Login Endpoint\n",
    "Create an endpoint to initiate Google login using Passport's authenticate method."
   ]
  },
  {
   "cell_type": "code",
   "execution_count": null,
   "id": "a52011d6",
   "metadata": {},
   "outputs": [],
   "source": [
    "# Google login endpoint\n",
    "app.get('/auth/google', passport.authenticate('google', {\n",
    "    scope: ['profile', 'email']\n",
    "}))"
   ]
  },
  {
   "cell_type": "markdown",
   "id": "df0b2280",
   "metadata": {},
   "source": [
    "# Handle Google Login Callback\n",
    "Create a callback endpoint to handle the response from Google and manage user session or token generation."
   ]
  },
  {
   "cell_type": "code",
   "execution_count": null,
   "id": "cd366b9b",
   "metadata": {},
   "outputs": [],
   "source": [
    "# Google login callback endpoint\n",
    "app.get('/auth/google/callback', \n",
    "    passport.authenticate('google', { failureRedirect: '/' }),\n",
    "    (req, res) => {\n",
    "        # Successful authentication, redirect or send token\n",
    "        res.redirect('/dashboard')\n",
    "    }\n",
    ")"
   ]
  },
  {
   "cell_type": "markdown",
   "id": "5ac99a57",
   "metadata": {},
   "source": [
    "# Start the Server\n",
    "Run the Express server on a specified port."
   ]
  },
  {
   "cell_type": "code",
   "execution_count": null,
   "id": "bfc3d84f",
   "metadata": {},
   "outputs": [],
   "source": [
    "# Start the server\n",
    "const PORT = process.env.PORT || 5000\n",
    "app.listen(PORT, () => {\n",
    "    console.log(f\"Server is running on port {PORT}\")\n",
    "})"
   ]
  }
 ],
 "metadata": {
  "language_info": {
   "name": "python"
  }
 },
 "nbformat": 4,
 "nbformat_minor": 5
}
